{
 "cells": [
  {
   "cell_type": "markdown",
   "id": "f77fd93b",
   "metadata": {},
   "source": [
    "## **<center>ML Intermediate - Avocado price dataset Project</center>**"
   ]
  },
  {
   "cell_type": "markdown",
   "id": "db7ce808",
   "metadata": {},
   "source": [
    "---\n",
    "<a name = Section2></a>\n",
    "# **Problem Statement**\n",
    "---\n",
    "### The current process suffers from the following problems:\n",
    "- The price of avocado is dependent on global demands and seasonal production.\n",
    "\n",
    "- Due to these reasons, it is quite difficult to know for certain the price in the future.\n",
    "\n",
    "- They want to automate the process of predicting the future price of avocado, based on the historical data.\n",
    "\n",
    "Deliverable: Predict the average price of a single avocado.\n",
    "\n",
    "Machine Learning Task: Regression\n",
    "\n",
    "Target Variable: AveragePrice"
   ]
  },
  {
   "cell_type": "markdown",
   "id": "d2c01c9d",
   "metadata": {},
   "source": [
    "<a name = Section33></a>\n",
    "### **Importing Libraries**"
   ]
  },
  {
   "cell_type": "code",
   "execution_count": 48,
   "id": "fc14155f",
   "metadata": {},
   "outputs": [],
   "source": [
    "import numpy as np\n",
    "import pandas as pd\n",
    "import matplotlib.pyplot as plt\n",
    "import seaborn as sns\n",
    "%matplotlib inline\n",
    "\n",
    "from sklearn.model_selection import train_test_split,RandomizedSearchCV,cross_val_score\n",
    "from sklearn.preprocessing import StandardScaler,LabelEncoder\n",
    "from sklearn.linear_model import LinearRegression\n",
    "from sklearn.tree import DecisionTreeRegressor\n",
    "from sklearn.ensemble import RandomForestRegressor\n",
    "from sklearn.metrics import mean_squared_error,mean_absolute_error,r2_score\n",
    "from sklearn import metrics\n",
    "\n",
    "import warnings\n",
    "warnings.filterwarnings(\"ignore\")"
   ]
  },
  {
   "cell_type": "markdown",
   "id": "2c6372fb",
   "metadata": {},
   "source": [
    "||Column Name|Description|\n",
    "|:--|:--|:--|\n",
    "||**Id**| Unique identity of each observation. |\n",
    "||**Date**| The date of the observation. |\n",
    "||**AveragePrice**| The average price of a single avocado. |\n",
    "||**Total Volume**| Total number of avocados sold. |\n",
    "||**4046**| Total number of avocados with PLU 4046 sold. |\n",
    "||**4225**| Total number of avocados with PLU 4225 sold. |\n",
    "||**4770**| Total number of avocados with PLU 4770 sold. |\n",
    "||**Total Bags**| Total number of bags sold. |\n",
    "||**Small Bags**| Total number of small bags sold.|\n",
    "||**Large Bags**| Total number of large bags sold.|\n",
    "||**XLarge Bags**| Total number of extra-large bags sold.|\n",
    "||**type**| Type of an avocado (conventional or organic).|\n",
    "||**year**| The year of observation. |\n",
    "||**Region**| The city or region of the observation.|"
   ]
  },
  {
   "cell_type": "markdown",
   "id": "edb32c29",
   "metadata": {},
   "source": [
    "<a name = Section33></a>\n",
    "### **Data Acquisition**"
   ]
  },
  {
   "cell_type": "code",
   "execution_count": 14,
   "id": "ee9d2faf",
   "metadata": {},
   "outputs": [],
   "source": [
    "df_train=pd.read_csv('avocado_train.csv')\n",
    "df_test=pd.read_csv('avocado_test.csv')"
   ]
  },
  {
   "cell_type": "code",
   "execution_count": 15,
   "id": "a7aebe95",
   "metadata": {},
   "outputs": [
    {
     "data": {
      "text/html": [
       "<div>\n",
       "<style scoped>\n",
       "    .dataframe tbody tr th:only-of-type {\n",
       "        vertical-align: middle;\n",
       "    }\n",
       "\n",
       "    .dataframe tbody tr th {\n",
       "        vertical-align: top;\n",
       "    }\n",
       "\n",
       "    .dataframe thead th {\n",
       "        text-align: right;\n",
       "    }\n",
       "</style>\n",
       "<table border=\"1\" class=\"dataframe\">\n",
       "  <thead>\n",
       "    <tr style=\"text-align: right;\">\n",
       "      <th></th>\n",
       "      <th>Id</th>\n",
       "      <th>Date</th>\n",
       "      <th>AveragePrice</th>\n",
       "      <th>Total Volume</th>\n",
       "      <th>4046</th>\n",
       "      <th>4225</th>\n",
       "      <th>4770</th>\n",
       "      <th>Total Bags</th>\n",
       "      <th>Small Bags</th>\n",
       "      <th>Large Bags</th>\n",
       "      <th>XLarge Bags</th>\n",
       "      <th>type</th>\n",
       "      <th>year</th>\n",
       "      <th>region</th>\n",
       "    </tr>\n",
       "  </thead>\n",
       "  <tbody>\n",
       "    <tr>\n",
       "      <th>0</th>\n",
       "      <td>14761</td>\n",
       "      <td>2017-08-20</td>\n",
       "      <td>1.86</td>\n",
       "      <td>2584.08</td>\n",
       "      <td>61.21</td>\n",
       "      <td>143.82</td>\n",
       "      <td>0.00</td>\n",
       "      <td>2379.05</td>\n",
       "      <td>2379.05</td>\n",
       "      <td>0.00</td>\n",
       "      <td>0.0</td>\n",
       "      <td>organic</td>\n",
       "      <td>2017</td>\n",
       "      <td>Albany</td>\n",
       "    </tr>\n",
       "    <tr>\n",
       "      <th>1</th>\n",
       "      <td>6843</td>\n",
       "      <td>2017-11-12</td>\n",
       "      <td>1.14</td>\n",
       "      <td>100811.00</td>\n",
       "      <td>3181.00</td>\n",
       "      <td>43510.00</td>\n",
       "      <td>86.00</td>\n",
       "      <td>54034.00</td>\n",
       "      <td>11788.00</td>\n",
       "      <td>42246.00</td>\n",
       "      <td>0.0</td>\n",
       "      <td>conventional</td>\n",
       "      <td>2017</td>\n",
       "      <td>Louisville</td>\n",
       "    </tr>\n",
       "    <tr>\n",
       "      <th>2</th>\n",
       "      <td>7306</td>\n",
       "      <td>2017-02-12</td>\n",
       "      <td>0.95</td>\n",
       "      <td>430096.94</td>\n",
       "      <td>242212.80</td>\n",
       "      <td>81697.52</td>\n",
       "      <td>264.25</td>\n",
       "      <td>105922.37</td>\n",
       "      <td>48557.37</td>\n",
       "      <td>57365.00</td>\n",
       "      <td>0.0</td>\n",
       "      <td>conventional</td>\n",
       "      <td>2017</td>\n",
       "      <td>Orlando</td>\n",
       "    </tr>\n",
       "    <tr>\n",
       "      <th>3</th>\n",
       "      <td>12329</td>\n",
       "      <td>2016-05-22</td>\n",
       "      <td>1.71</td>\n",
       "      <td>5433.16</td>\n",
       "      <td>437.48</td>\n",
       "      <td>2422.71</td>\n",
       "      <td>544.63</td>\n",
       "      <td>2028.34</td>\n",
       "      <td>2021.67</td>\n",
       "      <td>6.67</td>\n",
       "      <td>0.0</td>\n",
       "      <td>organic</td>\n",
       "      <td>2016</td>\n",
       "      <td>Charlotte</td>\n",
       "    </tr>\n",
       "    <tr>\n",
       "      <th>4</th>\n",
       "      <td>12036</td>\n",
       "      <td>2016-01-10</td>\n",
       "      <td>1.66</td>\n",
       "      <td>5614.09</td>\n",
       "      <td>2123.47</td>\n",
       "      <td>2121.26</td>\n",
       "      <td>0.00</td>\n",
       "      <td>1369.36</td>\n",
       "      <td>392.02</td>\n",
       "      <td>977.34</td>\n",
       "      <td>0.0</td>\n",
       "      <td>organic</td>\n",
       "      <td>2016</td>\n",
       "      <td>Atlanta</td>\n",
       "    </tr>\n",
       "  </tbody>\n",
       "</table>\n",
       "</div>"
      ],
      "text/plain": [
       "      Id        Date  AveragePrice  Total Volume       4046      4225    4770  \\\n",
       "0  14761  2017-08-20          1.86       2584.08      61.21    143.82    0.00   \n",
       "1   6843  2017-11-12          1.14     100811.00    3181.00  43510.00   86.00   \n",
       "2   7306  2017-02-12          0.95     430096.94  242212.80  81697.52  264.25   \n",
       "3  12329  2016-05-22          1.71       5433.16     437.48   2422.71  544.63   \n",
       "4  12036  2016-01-10          1.66       5614.09    2123.47   2121.26    0.00   \n",
       "\n",
       "   Total Bags  Small Bags  Large Bags  XLarge Bags          type  year  \\\n",
       "0     2379.05     2379.05        0.00          0.0       organic  2017   \n",
       "1    54034.00    11788.00    42246.00          0.0  conventional  2017   \n",
       "2   105922.37    48557.37    57365.00          0.0  conventional  2017   \n",
       "3     2028.34     2021.67        6.67          0.0       organic  2016   \n",
       "4     1369.36      392.02      977.34          0.0       organic  2016   \n",
       "\n",
       "       region  \n",
       "0      Albany  \n",
       "1  Louisville  \n",
       "2     Orlando  \n",
       "3   Charlotte  \n",
       "4     Atlanta  "
      ]
     },
     "execution_count": 15,
     "metadata": {},
     "output_type": "execute_result"
    }
   ],
   "source": [
    "df_train.head()"
   ]
  },
  {
   "cell_type": "code",
   "execution_count": 7,
   "id": "852c7cf6",
   "metadata": {},
   "outputs": [
    {
     "name": "stdout",
     "output_type": "stream",
     "text": [
      "<class 'pandas.core.frame.DataFrame'>\n",
      "RangeIndex: 14599 entries, 0 to 14598\n",
      "Data columns (total 14 columns):\n",
      " #   Column        Non-Null Count  Dtype  \n",
      "---  ------        --------------  -----  \n",
      " 0   Id            14599 non-null  int64  \n",
      " 1   Date          14599 non-null  object \n",
      " 2   AveragePrice  14599 non-null  float64\n",
      " 3   Total Volume  14599 non-null  float64\n",
      " 4   4046          14599 non-null  float64\n",
      " 5   4225          14599 non-null  float64\n",
      " 6   4770          14599 non-null  float64\n",
      " 7   Total Bags    14599 non-null  float64\n",
      " 8   Small Bags    14599 non-null  float64\n",
      " 9   Large Bags    14599 non-null  float64\n",
      " 10  XLarge Bags   14599 non-null  float64\n",
      " 11  type          14599 non-null  object \n",
      " 12  year          14599 non-null  int64  \n",
      " 13  region        14599 non-null  object \n",
      "dtypes: float64(9), int64(2), object(3)\n",
      "memory usage: 1.6+ MB\n"
     ]
    }
   ],
   "source": [
    "df_train.info()"
   ]
  },
  {
   "cell_type": "markdown",
   "id": "de9ac2bd",
   "metadata": {},
   "source": [
    "##### There are no NULL values present in the dataset"
   ]
  },
  {
   "cell_type": "code",
   "execution_count": 16,
   "id": "01f45a6d",
   "metadata": {},
   "outputs": [],
   "source": [
    "#Deleting ID column as it is unique id\n",
    "df_train.drop(columns='Id',inplace=True)"
   ]
  },
  {
   "cell_type": "code",
   "execution_count": 17,
   "id": "8b58dc55",
   "metadata": {},
   "outputs": [
    {
     "data": {
      "text/html": [
       "<div>\n",
       "<style scoped>\n",
       "    .dataframe tbody tr th:only-of-type {\n",
       "        vertical-align: middle;\n",
       "    }\n",
       "\n",
       "    .dataframe tbody tr th {\n",
       "        vertical-align: top;\n",
       "    }\n",
       "\n",
       "    .dataframe thead th {\n",
       "        text-align: right;\n",
       "    }\n",
       "</style>\n",
       "<table border=\"1\" class=\"dataframe\">\n",
       "  <thead>\n",
       "    <tr style=\"text-align: right;\">\n",
       "      <th></th>\n",
       "      <th>AveragePrice</th>\n",
       "      <th>Total Volume</th>\n",
       "      <th>4046</th>\n",
       "      <th>4225</th>\n",
       "      <th>4770</th>\n",
       "      <th>Total Bags</th>\n",
       "      <th>Small Bags</th>\n",
       "      <th>Large Bags</th>\n",
       "      <th>XLarge Bags</th>\n",
       "      <th>year</th>\n",
       "    </tr>\n",
       "  </thead>\n",
       "  <tbody>\n",
       "    <tr>\n",
       "      <th>count</th>\n",
       "      <td>14599.000000</td>\n",
       "      <td>1.459900e+04</td>\n",
       "      <td>1.459900e+04</td>\n",
       "      <td>1.459900e+04</td>\n",
       "      <td>1.459900e+04</td>\n",
       "      <td>1.459900e+04</td>\n",
       "      <td>1.459900e+04</td>\n",
       "      <td>1.459900e+04</td>\n",
       "      <td>14599.000000</td>\n",
       "      <td>14599.000000</td>\n",
       "    </tr>\n",
       "    <tr>\n",
       "      <th>mean</th>\n",
       "      <td>1.409168</td>\n",
       "      <td>8.136614e+05</td>\n",
       "      <td>2.787616e+05</td>\n",
       "      <td>2.835157e+05</td>\n",
       "      <td>2.175564e+04</td>\n",
       "      <td>2.296264e+05</td>\n",
       "      <td>1.746354e+05</td>\n",
       "      <td>5.199545e+04</td>\n",
       "      <td>2995.622236</td>\n",
       "      <td>2016.146174</td>\n",
       "    </tr>\n",
       "    <tr>\n",
       "      <th>std</th>\n",
       "      <td>0.404518</td>\n",
       "      <td>3.292013e+06</td>\n",
       "      <td>1.206792e+06</td>\n",
       "      <td>1.150215e+06</td>\n",
       "      <td>1.025608e+05</td>\n",
       "      <td>9.429775e+05</td>\n",
       "      <td>7.139212e+05</td>\n",
       "      <td>2.343441e+05</td>\n",
       "      <td>17313.445157</td>\n",
       "      <td>0.937565</td>\n",
       "    </tr>\n",
       "    <tr>\n",
       "      <th>min</th>\n",
       "      <td>0.440000</td>\n",
       "      <td>3.855500e+02</td>\n",
       "      <td>0.000000e+00</td>\n",
       "      <td>0.000000e+00</td>\n",
       "      <td>0.000000e+00</td>\n",
       "      <td>0.000000e+00</td>\n",
       "      <td>0.000000e+00</td>\n",
       "      <td>0.000000e+00</td>\n",
       "      <td>0.000000</td>\n",
       "      <td>2015.000000</td>\n",
       "    </tr>\n",
       "    <tr>\n",
       "      <th>25%</th>\n",
       "      <td>1.100000</td>\n",
       "      <td>1.080823e+04</td>\n",
       "      <td>8.493600e+02</td>\n",
       "      <td>3.018255e+03</td>\n",
       "      <td>0.000000e+00</td>\n",
       "      <td>5.040900e+03</td>\n",
       "      <td>2.828890e+03</td>\n",
       "      <td>1.314550e+02</td>\n",
       "      <td>0.000000</td>\n",
       "      <td>2015.000000</td>\n",
       "    </tr>\n",
       "    <tr>\n",
       "      <th>50%</th>\n",
       "      <td>1.370000</td>\n",
       "      <td>1.070186e+05</td>\n",
       "      <td>8.425390e+03</td>\n",
       "      <td>2.890747e+04</td>\n",
       "      <td>1.807200e+02</td>\n",
       "      <td>3.960296e+04</td>\n",
       "      <td>2.631176e+04</td>\n",
       "      <td>2.621750e+03</td>\n",
       "      <td>0.000000</td>\n",
       "      <td>2016.000000</td>\n",
       "    </tr>\n",
       "    <tr>\n",
       "      <th>75%</th>\n",
       "      <td>1.670000</td>\n",
       "      <td>4.261702e+05</td>\n",
       "      <td>1.087822e+05</td>\n",
       "      <td>1.451605e+05</td>\n",
       "      <td>6.136665e+03</td>\n",
       "      <td>1.096453e+05</td>\n",
       "      <td>8.300046e+04</td>\n",
       "      <td>2.151112e+04</td>\n",
       "      <td>127.940000</td>\n",
       "      <td>2017.000000</td>\n",
       "    </tr>\n",
       "    <tr>\n",
       "      <th>max</th>\n",
       "      <td>3.250000</td>\n",
       "      <td>6.250565e+07</td>\n",
       "      <td>2.162018e+07</td>\n",
       "      <td>2.047057e+07</td>\n",
       "      <td>2.546439e+06</td>\n",
       "      <td>1.937313e+07</td>\n",
       "      <td>1.338459e+07</td>\n",
       "      <td>5.719097e+06</td>\n",
       "      <td>551693.650000</td>\n",
       "      <td>2018.000000</td>\n",
       "    </tr>\n",
       "  </tbody>\n",
       "</table>\n",
       "</div>"
      ],
      "text/plain": [
       "       AveragePrice  Total Volume          4046          4225          4770  \\\n",
       "count  14599.000000  1.459900e+04  1.459900e+04  1.459900e+04  1.459900e+04   \n",
       "mean       1.409168  8.136614e+05  2.787616e+05  2.835157e+05  2.175564e+04   \n",
       "std        0.404518  3.292013e+06  1.206792e+06  1.150215e+06  1.025608e+05   \n",
       "min        0.440000  3.855500e+02  0.000000e+00  0.000000e+00  0.000000e+00   \n",
       "25%        1.100000  1.080823e+04  8.493600e+02  3.018255e+03  0.000000e+00   \n",
       "50%        1.370000  1.070186e+05  8.425390e+03  2.890747e+04  1.807200e+02   \n",
       "75%        1.670000  4.261702e+05  1.087822e+05  1.451605e+05  6.136665e+03   \n",
       "max        3.250000  6.250565e+07  2.162018e+07  2.047057e+07  2.546439e+06   \n",
       "\n",
       "         Total Bags    Small Bags    Large Bags    XLarge Bags          year  \n",
       "count  1.459900e+04  1.459900e+04  1.459900e+04   14599.000000  14599.000000  \n",
       "mean   2.296264e+05  1.746354e+05  5.199545e+04    2995.622236   2016.146174  \n",
       "std    9.429775e+05  7.139212e+05  2.343441e+05   17313.445157      0.937565  \n",
       "min    0.000000e+00  0.000000e+00  0.000000e+00       0.000000   2015.000000  \n",
       "25%    5.040900e+03  2.828890e+03  1.314550e+02       0.000000   2015.000000  \n",
       "50%    3.960296e+04  2.631176e+04  2.621750e+03       0.000000   2016.000000  \n",
       "75%    1.096453e+05  8.300046e+04  2.151112e+04     127.940000   2017.000000  \n",
       "max    1.937313e+07  1.338459e+07  5.719097e+06  551693.650000   2018.000000  "
      ]
     },
     "execution_count": 17,
     "metadata": {},
     "output_type": "execute_result"
    }
   ],
   "source": [
    "df_train.describe()"
   ]
  },
  {
   "cell_type": "code",
   "execution_count": 18,
   "id": "5683921c",
   "metadata": {},
   "outputs": [],
   "source": [
    "#Copy the Datafrom to working dataframe\n",
    "df_train_1=df_train.copy(deep=True)"
   ]
  },
  {
   "cell_type": "code",
   "execution_count": 19,
   "id": "7523ebb2",
   "metadata": {},
   "outputs": [],
   "source": [
    "### Drop columns 4046, 4225 and 4770 as we have Total Volume column\n",
    "### Drop columns Small Bags, Large Bags and XLarge Bags as we have Total Bags column\n",
    "df_train_1.drop(columns=['4046','4225','4770','Small Bags','Large Bags','XLarge Bags'],inplace=True)"
   ]
  },
  {
   "cell_type": "code",
   "execution_count": 23,
   "id": "407983a8",
   "metadata": {},
   "outputs": [
    {
     "data": {
      "text/html": [
       "<div>\n",
       "<style scoped>\n",
       "    .dataframe tbody tr th:only-of-type {\n",
       "        vertical-align: middle;\n",
       "    }\n",
       "\n",
       "    .dataframe tbody tr th {\n",
       "        vertical-align: top;\n",
       "    }\n",
       "\n",
       "    .dataframe thead th {\n",
       "        text-align: right;\n",
       "    }\n",
       "</style>\n",
       "<table border=\"1\" class=\"dataframe\">\n",
       "  <thead>\n",
       "    <tr style=\"text-align: right;\">\n",
       "      <th></th>\n",
       "      <th>Date</th>\n",
       "      <th>AveragePrice</th>\n",
       "      <th>Total Volume</th>\n",
       "      <th>Total Bags</th>\n",
       "      <th>type</th>\n",
       "      <th>year</th>\n",
       "      <th>region</th>\n",
       "      <th>Month</th>\n",
       "      <th>Day</th>\n",
       "    </tr>\n",
       "  </thead>\n",
       "  <tbody>\n",
       "    <tr>\n",
       "      <th>0</th>\n",
       "      <td>2017-08-20</td>\n",
       "      <td>1.86</td>\n",
       "      <td>2584.08</td>\n",
       "      <td>2379.05</td>\n",
       "      <td>organic</td>\n",
       "      <td>2017</td>\n",
       "      <td>Albany</td>\n",
       "      <td>8</td>\n",
       "      <td>20</td>\n",
       "    </tr>\n",
       "    <tr>\n",
       "      <th>1</th>\n",
       "      <td>2017-11-12</td>\n",
       "      <td>1.14</td>\n",
       "      <td>100811.00</td>\n",
       "      <td>54034.00</td>\n",
       "      <td>conventional</td>\n",
       "      <td>2017</td>\n",
       "      <td>Louisville</td>\n",
       "      <td>11</td>\n",
       "      <td>12</td>\n",
       "    </tr>\n",
       "    <tr>\n",
       "      <th>2</th>\n",
       "      <td>2017-02-12</td>\n",
       "      <td>0.95</td>\n",
       "      <td>430096.94</td>\n",
       "      <td>105922.37</td>\n",
       "      <td>conventional</td>\n",
       "      <td>2017</td>\n",
       "      <td>Orlando</td>\n",
       "      <td>2</td>\n",
       "      <td>12</td>\n",
       "    </tr>\n",
       "    <tr>\n",
       "      <th>3</th>\n",
       "      <td>2016-05-22</td>\n",
       "      <td>1.71</td>\n",
       "      <td>5433.16</td>\n",
       "      <td>2028.34</td>\n",
       "      <td>organic</td>\n",
       "      <td>2016</td>\n",
       "      <td>Charlotte</td>\n",
       "      <td>5</td>\n",
       "      <td>22</td>\n",
       "    </tr>\n",
       "    <tr>\n",
       "      <th>4</th>\n",
       "      <td>2016-01-10</td>\n",
       "      <td>1.66</td>\n",
       "      <td>5614.09</td>\n",
       "      <td>1369.36</td>\n",
       "      <td>organic</td>\n",
       "      <td>2016</td>\n",
       "      <td>Atlanta</td>\n",
       "      <td>1</td>\n",
       "      <td>10</td>\n",
       "    </tr>\n",
       "  </tbody>\n",
       "</table>\n",
       "</div>"
      ],
      "text/plain": [
       "        Date  AveragePrice  Total Volume  Total Bags          type  year  \\\n",
       "0 2017-08-20          1.86       2584.08     2379.05       organic  2017   \n",
       "1 2017-11-12          1.14     100811.00    54034.00  conventional  2017   \n",
       "2 2017-02-12          0.95     430096.94   105922.37  conventional  2017   \n",
       "3 2016-05-22          1.71       5433.16     2028.34       organic  2016   \n",
       "4 2016-01-10          1.66       5614.09     1369.36       organic  2016   \n",
       "\n",
       "       region  Month  Day  \n",
       "0      Albany      8   20  \n",
       "1  Louisville     11   12  \n",
       "2     Orlando      2   12  \n",
       "3   Charlotte      5   22  \n",
       "4     Atlanta      1   10  "
      ]
     },
     "execution_count": 23,
     "metadata": {},
     "output_type": "execute_result"
    }
   ],
   "source": [
    "df_train_1.head()"
   ]
  },
  {
   "cell_type": "code",
   "execution_count": 21,
   "id": "4d3e931e",
   "metadata": {},
   "outputs": [],
   "source": [
    "import datetime"
   ]
  },
  {
   "cell_type": "code",
   "execution_count": 22,
   "id": "b602c2d5",
   "metadata": {},
   "outputs": [],
   "source": [
    "df_train_1['Date'] = pd.to_datetime(df_train_1['Date'], format='%Y-%m-%d')\n",
    "df_train_1['Month']=df_train_1['Date'].dt.month\n",
    "df_train_1['Day']=df_train_1['Date'].dt.day"
   ]
  },
  {
   "cell_type": "code",
   "execution_count": 24,
   "id": "d34b07f6",
   "metadata": {},
   "outputs": [],
   "source": [
    "#Drop Date column\n",
    "df_train_1.drop(columns=['Date'],inplace=True)"
   ]
  },
  {
   "cell_type": "code",
   "execution_count": 29,
   "id": "533f912a",
   "metadata": {},
   "outputs": [],
   "source": [
    "le=LabelEncoder()"
   ]
  },
  {
   "cell_type": "code",
   "execution_count": 30,
   "id": "10935952",
   "metadata": {},
   "outputs": [],
   "source": [
    "columns=['region', 'type']\n",
    "df_train_1[columns] = df_train_1[columns].apply(le.fit_transform)"
   ]
  },
  {
   "cell_type": "code",
   "execution_count": 32,
   "id": "4d5ac71e",
   "metadata": {},
   "outputs": [],
   "source": [
    "ss=StandardScaler()"
   ]
  },
  {
   "cell_type": "code",
   "execution_count": 34,
   "id": "23a9ebd2",
   "metadata": {},
   "outputs": [],
   "source": [
    "df_train_1[['Total Volume','Total Bags']] =ss.fit_transform(df_train_1[['Total Volume','Total Bags']])"
   ]
  },
  {
   "cell_type": "code",
   "execution_count": 35,
   "id": "576742db",
   "metadata": {},
   "outputs": [
    {
     "data": {
      "text/html": [
       "<div>\n",
       "<style scoped>\n",
       "    .dataframe tbody tr th:only-of-type {\n",
       "        vertical-align: middle;\n",
       "    }\n",
       "\n",
       "    .dataframe tbody tr th {\n",
       "        vertical-align: top;\n",
       "    }\n",
       "\n",
       "    .dataframe thead th {\n",
       "        text-align: right;\n",
       "    }\n",
       "</style>\n",
       "<table border=\"1\" class=\"dataframe\">\n",
       "  <thead>\n",
       "    <tr style=\"text-align: right;\">\n",
       "      <th></th>\n",
       "      <th>AveragePrice</th>\n",
       "      <th>Total Volume</th>\n",
       "      <th>Total Bags</th>\n",
       "      <th>type</th>\n",
       "      <th>year</th>\n",
       "      <th>region</th>\n",
       "      <th>Month</th>\n",
       "      <th>Day</th>\n",
       "    </tr>\n",
       "  </thead>\n",
       "  <tbody>\n",
       "    <tr>\n",
       "      <th>0</th>\n",
       "      <td>1.86</td>\n",
       "      <td>-0.246386</td>\n",
       "      <td>-0.240997</td>\n",
       "      <td>1</td>\n",
       "      <td>2017</td>\n",
       "      <td>0</td>\n",
       "      <td>8</td>\n",
       "      <td>20</td>\n",
       "    </tr>\n",
       "    <tr>\n",
       "      <th>1</th>\n",
       "      <td>1.14</td>\n",
       "      <td>-0.216547</td>\n",
       "      <td>-0.186217</td>\n",
       "      <td>0</td>\n",
       "      <td>2017</td>\n",
       "      <td>23</td>\n",
       "      <td>11</td>\n",
       "      <td>12</td>\n",
       "    </tr>\n",
       "    <tr>\n",
       "      <th>2</th>\n",
       "      <td>0.95</td>\n",
       "      <td>-0.116518</td>\n",
       "      <td>-0.131189</td>\n",
       "      <td>0</td>\n",
       "      <td>2017</td>\n",
       "      <td>31</td>\n",
       "      <td>2</td>\n",
       "      <td>12</td>\n",
       "    </tr>\n",
       "    <tr>\n",
       "      <th>3</th>\n",
       "      <td>1.71</td>\n",
       "      <td>-0.245520</td>\n",
       "      <td>-0.241369</td>\n",
       "      <td>1</td>\n",
       "      <td>2016</td>\n",
       "      <td>7</td>\n",
       "      <td>5</td>\n",
       "      <td>22</td>\n",
       "    </tr>\n",
       "    <tr>\n",
       "      <th>4</th>\n",
       "      <td>1.66</td>\n",
       "      <td>-0.245465</td>\n",
       "      <td>-0.242068</td>\n",
       "      <td>1</td>\n",
       "      <td>2016</td>\n",
       "      <td>1</td>\n",
       "      <td>1</td>\n",
       "      <td>10</td>\n",
       "    </tr>\n",
       "  </tbody>\n",
       "</table>\n",
       "</div>"
      ],
      "text/plain": [
       "   AveragePrice  Total Volume  Total Bags  type  year  region  Month  Day\n",
       "0          1.86     -0.246386   -0.240997     1  2017       0      8   20\n",
       "1          1.14     -0.216547   -0.186217     0  2017      23     11   12\n",
       "2          0.95     -0.116518   -0.131189     0  2017      31      2   12\n",
       "3          1.71     -0.245520   -0.241369     1  2016       7      5   22\n",
       "4          1.66     -0.245465   -0.242068     1  2016       1      1   10"
      ]
     },
     "execution_count": 35,
     "metadata": {},
     "output_type": "execute_result"
    }
   ],
   "source": [
    "df_train_1.head()"
   ]
  },
  {
   "cell_type": "code",
   "execution_count": 45,
   "id": "3232750d",
   "metadata": {},
   "outputs": [
    {
     "data": {
      "text/plain": [
       "<AxesSubplot:>"
      ]
     },
     "execution_count": 45,
     "metadata": {},
     "output_type": "execute_result"
    },
    {
     "data": {
      "image/png": "[encoded data removed]",
      "text/plain": [
       "<Figure size 864x432 with 2 Axes>"
      ]
     },
     "metadata": {
      "needs_background": "light"
     },
     "output_type": "display_data"
    }
   ],
   "source": [
    "plt.figure(figsize=(12,6))\n",
    "sns.heatmap(df_train_1.corr(),cmap='viridis',annot=True)"
   ]
  },
  {
   "cell_type": "markdown",
   "id": "53c1fca3",
   "metadata": {},
   "source": [
    "### Splitting the data into X and y"
   ]
  },
  {
   "cell_type": "code",
   "execution_count": 46,
   "id": "68605034",
   "metadata": {},
   "outputs": [],
   "source": [
    "X=df_train_1.drop('AveragePrice',axis=1)\n",
    "y=df_train_1['AveragePrice']"
   ]
  },
  {
   "cell_type": "code",
   "execution_count": 47,
   "id": "12a67247",
   "metadata": {},
   "outputs": [],
   "source": [
    "X_train, X_test, y_train, y_test = train_test_split(X, y, test_size=0.23, random_state=123)"
   ]
  },
  {
   "cell_type": "markdown",
   "id": "67eb4e2d",
   "metadata": {},
   "source": [
    "### Bulding LinearRegression Model"
   ]
  },
  {
   "cell_type": "code",
   "execution_count": 49,
   "id": "d07786a3",
   "metadata": {},
   "outputs": [],
   "source": [
    "lr=LinearRegression()"
   ]
  },
  {
   "cell_type": "code",
   "execution_count": 76,
   "id": "39fa7544",
   "metadata": {},
   "outputs": [
    {
     "data": {
      "text/plain": [
       "LinearRegression()"
      ]
     },
     "execution_count": 76,
     "metadata": {},
     "output_type": "execute_result"
    }
   ],
   "source": [
    "lr.fit(X_train,y_train)"
   ]
  },
  {
   "cell_type": "code",
   "execution_count": 77,
   "id": "dd47adbd",
   "metadata": {},
   "outputs": [],
   "source": [
    "lr_pred=lr.predict(X_test)"
   ]
  },
  {
   "cell_type": "code",
   "execution_count": 78,
   "id": "12e5930d",
   "metadata": {},
   "outputs": [
    {
     "name": "stdout",
     "output_type": "stream",
     "text": [
      "MAE for Test is 0.24036478918059775\n",
      "MSE for Test set is 0.09517427344897209\n",
      "RMSE for Test set is 0.30850327947847184\n",
      "R2 score for Test set is 0.4176750722257677\n",
      "Adjusted R2 score for Test set is 0.4164582738692245\n"
     ]
    }
   ],
   "source": [
    "MAE = metrics.mean_absolute_error(y_test, lr_pred)   \n",
    "print('MAE for Test is {}'.format(MAE))\n",
    "\n",
    "MSE = metrics.mean_squared_error(y_test, lr_pred)\n",
    "print('MSE for Test set is {}'.format(MSE))\n",
    "\n",
    "RMSE = np.sqrt(metrics.mean_squared_error(y_test, lr_pred))\n",
    "print('RMSE for Test set is {}'.format(RMSE))\n",
    "\n",
    "r2 = metrics.r2_score(y_test,lr_pred)\n",
    "print(\"R2 score for Test set is {}\".format(r2))\n",
    "\n",
    "adj_r_squared = 1 - (1-r2)*(len(y_test)-1)/(len(y_test)-X_test.shape[1]-1)\n",
    "print(\"Adjusted R2 score for Test set is {}\".format(adj_r_squared))"
   ]
  },
  {
   "cell_type": "code",
   "execution_count": 80,
   "id": "7fdc831d",
   "metadata": {},
   "outputs": [
    {
     "data": {
      "text/plain": [
       "<AxesSubplot:xlabel='AveragePrice'>"
      ]
     },
     "execution_count": 80,
     "metadata": {},
     "output_type": "execute_result"
    },
    {
     "data": {
      "image/png": "[encoded data removed]",
      "text/plain": [
       "<Figure size 432x288 with 1 Axes>"
      ]
     },
     "metadata": {
      "needs_background": "light"
     },
     "output_type": "display_data"
    }
   ],
   "source": [
    "sns.regplot(y_test,lr_pred)"
   ]
  },
  {
   "cell_type": "markdown",
   "id": "e808b10e",
   "metadata": {},
   "source": [
    "#### Decision Tree"
   ]
  },
  {
   "cell_type": "code",
   "execution_count": 81,
   "id": "1447a700",
   "metadata": {},
   "outputs": [],
   "source": [
    "dt=DecisionTreeRegressor()"
   ]
  },
  {
   "cell_type": "code",
   "execution_count": 83,
   "id": "22049692",
   "metadata": {},
   "outputs": [
    {
     "data": {
      "text/plain": [
       "DecisionTreeRegressor()"
      ]
     },
     "execution_count": 83,
     "metadata": {},
     "output_type": "execute_result"
    }
   ],
   "source": [
    "dt.fit(X_train,y_train)"
   ]
  },
  {
   "cell_type": "code",
   "execution_count": 84,
   "id": "b55a26a7",
   "metadata": {},
   "outputs": [],
   "source": [
    "dt_pred=dt.predict(X_test)"
   ]
  },
  {
   "cell_type": "code",
   "execution_count": 85,
   "id": "ea7447fc",
   "metadata": {},
   "outputs": [
    {
     "name": "stdout",
     "output_type": "stream",
     "text": [
      "MAE for Test is 0.13882370458606313\n",
      "MSE for Test set is 0.043988653960690884\n",
      "RMSE for Test set is 0.20973472283027167\n",
      "R2 score for Test set is 0.730854895842426\n",
      "Adjusted R2 score for Test set is 0.7302925030874698\n"
     ]
    }
   ],
   "source": [
    "MAE = metrics.mean_absolute_error(y_test, dt_pred)   \n",
    "print('MAE for Test is {}'.format(MAE))\n",
    "\n",
    "MSE = metrics.mean_squared_error(y_test, dt_pred)\n",
    "print('MSE for Test set is {}'.format(MSE))\n",
    "\n",
    "RMSE = np.sqrt(metrics.mean_squared_error(y_test, dt_pred))\n",
    "print('RMSE for Test set is {}'.format(RMSE))\n",
    "\n",
    "r2 = metrics.r2_score(y_test,dt_pred)\n",
    "print(\"R2 score for Test set is {}\".format(r2))\n",
    "\n",
    "adj_r_squared = 1 - (1-r2)*(len(y_test)-1)/(len(y_test)-X_test.shape[1]-1)\n",
    "print(\"Adjusted R2 score for Test set is {}\".format(adj_r_squared))"
   ]
  },
  {
   "cell_type": "code",
   "execution_count": 86,
   "id": "635d3335",
   "metadata": {},
   "outputs": [
    {
     "data": {
      "text/plain": [
       "<AxesSubplot:xlabel='AveragePrice'>"
      ]
     },
     "execution_count": 86,
     "metadata": {},
     "output_type": "execute_result"
    },
    {
     "data": {
      "image/png": "[encoded data removed]",
      "text/plain": [
       "<Figure size 432x288 with 1 Axes>"
      ]
     },
     "metadata": {
      "needs_background": "light"
     },
     "output_type": "display_data"
    }
   ],
   "source": [
    "sns.regplot(y_test,dt_pred)"
   ]
  },
  {
   "cell_type": "markdown",
   "id": "9dc97d17",
   "metadata": {},
   "source": [
    "#### RandomForest"
   ]
  },
  {
   "cell_type": "code",
   "execution_count": 87,
   "id": "3a2dd5ba",
   "metadata": {},
   "outputs": [],
   "source": [
    "rf=RandomForestRegressor()"
   ]
  },
  {
   "cell_type": "code",
   "execution_count": 88,
   "id": "9447bb98",
   "metadata": {},
   "outputs": [
    {
     "data": {
      "text/plain": [
       "RandomForestRegressor()"
      ]
     },
     "execution_count": 88,
     "metadata": {},
     "output_type": "execute_result"
    }
   ],
   "source": [
    "rf.fit(X_train,y_train)"
   ]
  },
  {
   "cell_type": "code",
   "execution_count": 89,
   "id": "e1ba6cca",
   "metadata": {},
   "outputs": [],
   "source": [
    "rf_pred=rf.predict(X_test)"
   ]
  },
  {
   "cell_type": "code",
   "execution_count": 90,
   "id": "224dbcbf",
   "metadata": {},
   "outputs": [
    {
     "name": "stdout",
     "output_type": "stream",
     "text": [
      "MAE for Test is 0.10539365693865398\n",
      "MSE for Test set is 0.022801136036331146\n",
      "RMSE for Test set is 0.15100045045075577\n",
      "R2 score for Test set is 0.8604909770848334\n",
      "Adjusted R2 score for Test set is 0.8601994656936673\n"
     ]
    }
   ],
   "source": [
    "MAE = metrics.mean_absolute_error(y_test, rf_pred)   \n",
    "print('MAE for Test is {}'.format(MAE))\n",
    "\n",
    "MSE = metrics.mean_squared_error(y_test, rf_pred)\n",
    "print('MSE for Test set is {}'.format(MSE))\n",
    "\n",
    "RMSE = np.sqrt(metrics.mean_squared_error(y_test, rf_pred))\n",
    "print('RMSE for Test set is {}'.format(RMSE))\n",
    "\n",
    "r2 = metrics.r2_score(y_test,rf_pred)\n",
    "print(\"R2 score for Test set is {}\".format(r2))\n",
    "\n",
    "adj_r_squared = 1 - (1-r2)*(len(y_test)-1)/(len(y_test)-X_test.shape[1]-1)\n",
    "print(\"Adjusted R2 score for Test set is {}\".format(adj_r_squared))"
   ]
  },
  {
   "cell_type": "code",
   "execution_count": 91,
   "id": "7c82c36b",
   "metadata": {},
   "outputs": [
    {
     "data": {
      "text/plain": [
       "<AxesSubplot:xlabel='AveragePrice'>"
      ]
     },
     "execution_count": 91,
     "metadata": {},
     "output_type": "execute_result"
    },
    {
     "data": {
      "image/png": "[encoded data removed]",
      "text/plain": [
       "<Figure size 432x288 with 1 Axes>"
      ]
     },
     "metadata": {
      "needs_background": "light"
     },
     "output_type": "display_data"
    }
   ],
   "source": [
    "sns.regplot(y_test,rf_pred)"
   ]
  },
  {
   "cell_type": "markdown",
   "id": "6d323ede",
   "metadata": {},
   "source": [
    "#### Randomized Search Cv"
   ]
  },
  {
   "cell_type": "code",
   "execution_count": 92,
   "id": "075e7c01",
   "metadata": {},
   "outputs": [],
   "source": [
    "#Number of trees in random forest\n",
    "n_estimators = [int(x) for x in np.linspace(start = 100, stop = 500, num = 5)]\n",
    "\n",
    "# Number of features to consider at every split\n",
    "max_features = ['auto', 'sqrt']\n",
    "\n",
    "# Maximum number of levels in tree\n",
    "max_depth = [int(x) for x in np.linspace(5, 30, num = 6)]\n",
    "\n",
    "# Minimum number of samples required to split a node\n",
    "min_samples_split = [2, 5, 10, 15, 100]\n",
    "\n",
    "# Minimum number of samples required at each leaf node\n",
    "min_samples_leaf = [1, 2, 5, 10]\n",
    "\n",
    "# Method of selecting samples for training each tree\n",
    "# Create the random grid\n",
    "random_grid = {'n_estimators': n_estimators,\n",
    "'max_features': max_features,\n",
    "'max_depth': max_depth,\n",
    "'min_samples_split': min_samples_split,\n",
    "'min_samples_leaf': min_samples_leaf\n",
    "}"
   ]
  },
  {
   "cell_type": "code",
   "execution_count": 93,
   "id": "09712c32",
   "metadata": {},
   "outputs": [
    {
     "data": {
      "text/plain": [
       "RandomizedSearchCV(cv=5, estimator=RandomForestRegressor(), n_jobs=-1,\n",
       "                   param_distributions={'max_depth': [5, 10, 15, 20, 25, 30],\n",
       "                                        'max_features': ['auto', 'sqrt'],\n",
       "                                        'min_samples_leaf': [1, 2, 5, 10],\n",
       "                                        'min_samples_split': [2, 5, 10, 15,\n",
       "                                                              100],\n",
       "                                        'n_estimators': [100, 200, 300, 400,\n",
       "                                                         500]})"
      ]
     },
     "execution_count": 93,
     "metadata": {},
     "output_type": "execute_result"
    }
   ],
   "source": [
    "rf_randomcv=RandomizedSearchCV(estimator=rf,param_distributions=random_grid, cv=5, n_iter=10,n_jobs=-1)\n",
    "### fit the randomized model\n",
    "rf_randomcv.fit(X_train,y_train)"
   ]
  },
  {
   "cell_type": "code",
   "execution_count": 94,
   "id": "4d475326",
   "metadata": {},
   "outputs": [
    {
     "name": "stdout",
     "output_type": "stream",
     "text": [
      "RandomForestRegressor(max_depth=25, min_samples_leaf=2, min_samples_split=15,\n",
      "                      n_estimators=400)\n"
     ]
    }
   ],
   "source": [
    "# Display the best estimator\n",
    "print(rf_randomcv.best_estimator_)"
   ]
  },
  {
   "cell_type": "code",
   "execution_count": 95,
   "id": "5135cef2",
   "metadata": {},
   "outputs": [],
   "source": [
    "best_random_grid=rf_randomcv.best_estimator_"
   ]
  },
  {
   "cell_type": "code",
   "execution_count": 96,
   "id": "ad7a6801",
   "metadata": {},
   "outputs": [],
   "source": [
    "rf_rscv_pred=best_random_grid.predict(X_test)"
   ]
  },
  {
   "cell_type": "code",
   "execution_count": 97,
   "id": "30054153",
   "metadata": {},
   "outputs": [
    {
     "name": "stdout",
     "output_type": "stream",
     "text": [
      "MAE for Test is 0.11912854656670972\n",
      "MSE for Test set is 0.027521045351226642\n",
      "RMSE for Test set is 0.1658946815037379\n",
      "R2 score for Test set is 0.8316121556208473\n",
      "Adjusted R2 score for Test set is 0.8312603004236372\n"
     ]
    }
   ],
   "source": [
    "MAE = metrics.mean_absolute_error(y_test, rf_rscv_pred)   \n",
    "print('MAE for Test is {}'.format(MAE))\n",
    "\n",
    "MSE = metrics.mean_squared_error(y_test, rf_rscv_pred)\n",
    "print('MSE for Test set is {}'.format(MSE))\n",
    "\n",
    "RMSE = np.sqrt(metrics.mean_squared_error(y_test, rf_rscv_pred))\n",
    "print('RMSE for Test set is {}'.format(RMSE))\n",
    "\n",
    "r2 = metrics.r2_score(y_test,rf_rscv_pred)\n",
    "print(\"R2 score for Test set is {}\".format(r2))\n",
    "\n",
    "adj_r_squared = 1 - (1-r2)*(len(y_test)-1)/(len(y_test)-X_test.shape[1]-1)\n",
    "print(\"Adjusted R2 score for Test set is {}\".format(adj_r_squared))"
   ]
  },
  {
   "cell_type": "code",
   "execution_count": 98,
   "id": "1b27c00b",
   "metadata": {},
   "outputs": [
    {
     "data": {
      "text/plain": [
       "<AxesSubplot:xlabel='AveragePrice'>"
      ]
     },
     "execution_count": 98,
     "metadata": {},
     "output_type": "execute_result"
    },
    {
     "data": {
      "image/png": "[encoded data removed]",
      "text/plain": [
       "<Figure size 432x288 with 1 Axes>"
      ]
     },
     "metadata": {
      "needs_background": "light"
     },
     "output_type": "display_data"
    }
   ],
   "source": [
    "sns.regplot(y_test,rf_rscv_pred)"
   ]
  },
  {
   "cell_type": "markdown",
   "id": "a99e04ca",
   "metadata": {},
   "source": [
    "#### Conclusion"
   ]
  },
  {
   "cell_type": "markdown",
   "id": "ae8730fe",
   "metadata": {},
   "source": [
    "RandomForest Regressor Gave best prediction\n",
    "\n",
    "So, prediction for test dataset can perform using RandomForest Regression"
   ]
  },
  {
   "cell_type": "markdown",
   "id": "ee611c88",
   "metadata": {},
   "source": [
    "#### Working with Test Dataset"
   ]
  },
  {
   "cell_type": "code",
   "execution_count": 100,
   "id": "ddd74980",
   "metadata": {},
   "outputs": [],
   "source": [
    "df_test.drop(columns=['Id','4046','4225','4770','Small Bags','Large Bags','XLarge Bags'],inplace=True)"
   ]
  },
  {
   "cell_type": "code",
   "execution_count": 102,
   "id": "e0aa1a14",
   "metadata": {},
   "outputs": [],
   "source": [
    "df_test['Date'] = pd.to_datetime(df_test['Date'], format='%Y-%m-%d')\n",
    "df_test['Month']=df_test['Date'].dt.month\n",
    "df_test['Day']=df_test['Date'].dt.day\n",
    "\n",
    "#Drop Date column\n",
    "df_test.drop(columns=['Date'],inplace=True)"
   ]
  },
  {
   "cell_type": "code",
   "execution_count": 104,
   "id": "e7860812",
   "metadata": {},
   "outputs": [],
   "source": [
    "df_test[columns] = df_test[columns].apply(le.fit_transform)\n",
    "\n",
    "df_test[['Total Volume','Total Bags']] =ss.fit_transform(df_test[['Total Volume','Total Bags']])"
   ]
  },
  {
   "cell_type": "code",
   "execution_count": 105,
   "id": "cad22244",
   "metadata": {},
   "outputs": [
    {
     "data": {
      "text/html": [
       "<div>\n",
       "<style scoped>\n",
       "    .dataframe tbody tr th:only-of-type {\n",
       "        vertical-align: middle;\n",
       "    }\n",
       "\n",
       "    .dataframe tbody tr th {\n",
       "        vertical-align: top;\n",
       "    }\n",
       "\n",
       "    .dataframe thead th {\n",
       "        text-align: right;\n",
       "    }\n",
       "</style>\n",
       "<table border=\"1\" class=\"dataframe\">\n",
       "  <thead>\n",
       "    <tr style=\"text-align: right;\">\n",
       "      <th></th>\n",
       "      <th>Total Volume</th>\n",
       "      <th>Total Bags</th>\n",
       "      <th>type</th>\n",
       "      <th>year</th>\n",
       "      <th>region</th>\n",
       "      <th>Month</th>\n",
       "      <th>Day</th>\n",
       "    </tr>\n",
       "  </thead>\n",
       "  <tbody>\n",
       "    <tr>\n",
       "      <th>0</th>\n",
       "      <td>-0.244574</td>\n",
       "      <td>-0.240260</td>\n",
       "      <td>1</td>\n",
       "      <td>2015</td>\n",
       "      <td>38</td>\n",
       "      <td>5</td>\n",
       "      <td>3</td>\n",
       "    </tr>\n",
       "    <tr>\n",
       "      <th>1</th>\n",
       "      <td>-0.244720</td>\n",
       "      <td>-0.237032</td>\n",
       "      <td>1</td>\n",
       "      <td>2017</td>\n",
       "      <td>33</td>\n",
       "      <td>10</td>\n",
       "      <td>8</td>\n",
       "    </tr>\n",
       "    <tr>\n",
       "      <th>2</th>\n",
       "      <td>0.806493</td>\n",
       "      <td>1.269092</td>\n",
       "      <td>0</td>\n",
       "      <td>2017</td>\n",
       "      <td>15</td>\n",
       "      <td>7</td>\n",
       "      <td>2</td>\n",
       "    </tr>\n",
       "    <tr>\n",
       "      <th>3</th>\n",
       "      <td>-0.229067</td>\n",
       "      <td>-0.217994</td>\n",
       "      <td>0</td>\n",
       "      <td>2017</td>\n",
       "      <td>49</td>\n",
       "      <td>5</td>\n",
       "      <td>14</td>\n",
       "    </tr>\n",
       "    <tr>\n",
       "      <th>4</th>\n",
       "      <td>-0.246516</td>\n",
       "      <td>-0.243654</td>\n",
       "      <td>1</td>\n",
       "      <td>2015</td>\n",
       "      <td>26</td>\n",
       "      <td>12</td>\n",
       "      <td>13</td>\n",
       "    </tr>\n",
       "  </tbody>\n",
       "</table>\n",
       "</div>"
      ],
      "text/plain": [
       "   Total Volume  Total Bags  type  year  region  Month  Day\n",
       "0     -0.244574   -0.240260     1  2015      38      5    3\n",
       "1     -0.244720   -0.237032     1  2017      33     10    8\n",
       "2      0.806493    1.269092     0  2017      15      7    2\n",
       "3     -0.229067   -0.217994     0  2017      49      5   14\n",
       "4     -0.246516   -0.243654     1  2015      26     12   13"
      ]
     },
     "execution_count": 105,
     "metadata": {},
     "output_type": "execute_result"
    }
   ],
   "source": [
    "df_test.head()"
   ]
  },
  {
   "cell_type": "markdown",
   "id": "bbd5285f",
   "metadata": {},
   "source": [
    "Predicting for Test dataset with RandomForest as I got best Accuracy score for this Model"
   ]
  },
  {
   "cell_type": "code",
   "execution_count": 106,
   "id": "ffd9eae4",
   "metadata": {},
   "outputs": [],
   "source": [
    "test_predictions=rf.predict(df_test)"
   ]
  },
  {
   "cell_type": "code",
   "execution_count": 107,
   "id": "e22f7dac",
   "metadata": {},
   "outputs": [
    {
     "data": {
      "text/plain": [
       "array([1.3236, 1.9637, 1.2603, ..., 1.0905, 1.5886, 1.6239])"
      ]
     },
     "execution_count": 107,
     "metadata": {},
     "output_type": "execute_result"
    }
   ],
   "source": [
    "test_predictions"
   ]
  },
  {
   "cell_type": "code",
   "execution_count": 108,
   "id": "9f533311",
   "metadata": {},
   "outputs": [],
   "source": [
    "Avacado_Predictions = pd.DataFrame(test_predictions, columns=['predictions']).to_csv('Avacado_Predictions.csv',index=False,header=False)"
   ]
  },
  {
   "cell_type": "markdown",
   "id": "40c73ee5",
   "metadata": {},
   "source": [
    "### Trying with Alternate Ways to overcome overfitting problem"
   ]
  },
  {
   "cell_type": "code",
   "execution_count": 152,
   "id": "a5f30afa",
   "metadata": {},
   "outputs": [],
   "source": [
    "#Copy the Datafrom to working dataframe\n",
    "df_train_2=df_train.copy(deep=True)"
   ]
  },
  {
   "cell_type": "code",
   "execution_count": 153,
   "id": "0cb5a995",
   "metadata": {},
   "outputs": [],
   "source": [
    "df_train_2['otherPLU']=df_train_2['Total Volume']-(df_train_2['4046']+df_train_2['4225']+df_train_2['4770'])"
   ]
  },
  {
   "cell_type": "code",
   "execution_count": 154,
   "id": "66b1a026",
   "metadata": {},
   "outputs": [],
   "source": [
    "df_train_2.drop(columns=['Total Volume','Total Bags'],inplace=True)"
   ]
  },
  {
   "cell_type": "code",
   "execution_count": 155,
   "id": "bdff8eaf",
   "metadata": {},
   "outputs": [],
   "source": [
    "df_train_2['Date'] = pd.to_datetime(df_train_2['Date'], format='%Y-%m-%d')\n",
    "df_train_2['Month']=df_train_2['Date'].dt.month\n",
    "df_train_2['Day']=df_train_2['Date'].dt.day"
   ]
  },
  {
   "cell_type": "code",
   "execution_count": 156,
   "id": "945580bd",
   "metadata": {},
   "outputs": [],
   "source": [
    "df_train_2.drop(columns=['Date'],inplace=True)"
   ]
  },
  {
   "cell_type": "code",
   "execution_count": 157,
   "id": "87b75046",
   "metadata": {
    "scrolled": true
   },
   "outputs": [],
   "source": [
    "df_train_2['type']=df_train_2['type'].map({'conventional':0,'organic':1})"
   ]
  },
  {
   "cell_type": "code",
   "execution_count": 158,
   "id": "09438000",
   "metadata": {},
   "outputs": [],
   "source": [
    "region=pd.get_dummies(df_train_2['region'],drop_first=True)\n",
    "df_train_2=pd.concat((df_train_2,region),axis=1)\n",
    "df_train_2.drop(columns=['region'],inplace=True)"
   ]
  },
  {
   "cell_type": "code",
   "execution_count": 159,
   "id": "0b9f0aca",
   "metadata": {},
   "outputs": [],
   "source": [
    "df_train_2[['4046','4225','4770','Small Bags','Large Bags','XLarge Bags','otherPLU']] =ss.fit_transform(df_train_2[['4046','4225','4770','Small Bags','Large Bags','XLarge Bags','otherPLU']])"
   ]
  },
  {
   "cell_type": "code",
   "execution_count": 160,
   "id": "2c57eb72",
   "metadata": {},
   "outputs": [],
   "source": [
    "year=pd.get_dummies(df_train_2['year'],drop_first=True)\n",
    "df_train_2=pd.concat((df_train_2,year),axis=1)\n",
    "df_train_2.drop(columns=['year'],inplace=True)"
   ]
  },
  {
   "cell_type": "code",
   "execution_count": 162,
   "id": "35891c6b",
   "metadata": {},
   "outputs": [],
   "source": [
    "Month=pd.get_dummies(df_train_2['Month'],drop_first=True)\n",
    "df_train_2=pd.concat((df_train_2,Month),axis=1)\n",
    "df_train_2.drop(columns=['Month'],inplace=True)"
   ]
  },
  {
   "cell_type": "code",
   "execution_count": 165,
   "id": "d458437b",
   "metadata": {},
   "outputs": [],
   "source": [
    "Day=pd.get_dummies(df_train_2['Day'],drop_first=True)\n",
    "df_train_2=pd.concat((df_train_2,Day),axis=1)\n",
    "df_train_2.drop(columns=['Day'],inplace=True)"
   ]
  },
  {
   "cell_type": "code",
   "execution_count": 166,
   "id": "3b7dde70",
   "metadata": {},
   "outputs": [
    {
     "data": {
      "text/html": [
       "<div>\n",
       "<style scoped>\n",
       "    .dataframe tbody tr th:only-of-type {\n",
       "        vertical-align: middle;\n",
       "    }\n",
       "\n",
       "    .dataframe tbody tr th {\n",
       "        vertical-align: top;\n",
       "    }\n",
       "\n",
       "    .dataframe thead th {\n",
       "        text-align: right;\n",
       "    }\n",
       "</style>\n",
       "<table border=\"1\" class=\"dataframe\">\n",
       "  <thead>\n",
       "    <tr style=\"text-align: right;\">\n",
       "      <th></th>\n",
       "      <th>AveragePrice</th>\n",
       "      <th>4046</th>\n",
       "      <th>4225</th>\n",
       "      <th>4770</th>\n",
       "      <th>Small Bags</th>\n",
       "      <th>Large Bags</th>\n",
       "      <th>XLarge Bags</th>\n",
       "      <th>type</th>\n",
       "      <th>otherPLU</th>\n",
       "      <th>Atlanta</th>\n",
       "      <th>...</th>\n",
       "      <th>22</th>\n",
       "      <th>23</th>\n",
       "      <th>24</th>\n",
       "      <th>25</th>\n",
       "      <th>26</th>\n",
       "      <th>27</th>\n",
       "      <th>28</th>\n",
       "      <th>29</th>\n",
       "      <th>30</th>\n",
       "      <th>31</th>\n",
       "    </tr>\n",
       "  </thead>\n",
       "  <tbody>\n",
       "    <tr>\n",
       "      <th>0</th>\n",
       "      <td>1.86</td>\n",
       "      <td>-0.230951</td>\n",
       "      <td>-0.246373</td>\n",
       "      <td>-0.212132</td>\n",
       "      <td>-0.241290</td>\n",
       "      <td>-0.221884</td>\n",
       "      <td>-0.173029</td>\n",
       "      <td>1</td>\n",
       "      <td>-0.240999</td>\n",
       "      <td>0</td>\n",
       "      <td>...</td>\n",
       "      <td>0</td>\n",
       "      <td>0</td>\n",
       "      <td>0</td>\n",
       "      <td>0</td>\n",
       "      <td>0</td>\n",
       "      <td>0</td>\n",
       "      <td>0</td>\n",
       "      <td>0</td>\n",
       "      <td>0</td>\n",
       "      <td>0</td>\n",
       "    </tr>\n",
       "    <tr>\n",
       "      <th>1</th>\n",
       "      <td>1.14</td>\n",
       "      <td>-0.228366</td>\n",
       "      <td>-0.208669</td>\n",
       "      <td>-0.211293</td>\n",
       "      <td>-0.228111</td>\n",
       "      <td>-0.041605</td>\n",
       "      <td>-0.173029</td>\n",
       "      <td>0</td>\n",
       "      <td>-0.186219</td>\n",
       "      <td>0</td>\n",
       "      <td>...</td>\n",
       "      <td>0</td>\n",
       "      <td>0</td>\n",
       "      <td>0</td>\n",
       "      <td>0</td>\n",
       "      <td>0</td>\n",
       "      <td>0</td>\n",
       "      <td>0</td>\n",
       "      <td>0</td>\n",
       "      <td>0</td>\n",
       "      <td>0</td>\n",
       "    </tr>\n",
       "  </tbody>\n",
       "</table>\n",
       "<p>2 rows × 106 columns</p>\n",
       "</div>"
      ],
      "text/plain": [
       "   AveragePrice      4046      4225      4770  Small Bags  Large Bags  \\\n",
       "0          1.86 -0.230951 -0.246373 -0.212132   -0.241290   -0.221884   \n",
       "1          1.14 -0.228366 -0.208669 -0.211293   -0.228111   -0.041605   \n",
       "\n",
       "   XLarge Bags  type  otherPLU  Atlanta  ...  22  23  24  25  26  27  28  29  \\\n",
       "0    -0.173029     1 -0.240999        0  ...   0   0   0   0   0   0   0   0   \n",
       "1    -0.173029     0 -0.186219        0  ...   0   0   0   0   0   0   0   0   \n",
       "\n",
       "   30  31  \n",
       "0   0   0  \n",
       "1   0   0  \n",
       "\n",
       "[2 rows x 106 columns]"
      ]
     },
     "execution_count": 166,
     "metadata": {},
     "output_type": "execute_result"
    }
   ],
   "source": [
    "df_train_2.head(2)"
   ]
  },
  {
   "cell_type": "markdown",
   "id": "13646b2d",
   "metadata": {},
   "source": [
    "#### Splitting data into X and y"
   ]
  },
  {
   "cell_type": "code",
   "execution_count": 167,
   "id": "9dcf2435",
   "metadata": {},
   "outputs": [],
   "source": [
    "X=df_train_2.drop('AveragePrice',axis=1)\n",
    "y=df_train_2['AveragePrice']"
   ]
  },
  {
   "cell_type": "code",
   "execution_count": 171,
   "id": "6f1945e5",
   "metadata": {},
   "outputs": [],
   "source": [
    "X_train, X_test, y_train, y_test = train_test_split(X, y, test_size=0.2, random_state=123)"
   ]
  },
  {
   "cell_type": "markdown",
   "id": "2853e904",
   "metadata": {},
   "source": [
    "#### Linear Regression"
   ]
  },
  {
   "cell_type": "code",
   "execution_count": 172,
   "id": "bc7a8ba7",
   "metadata": {},
   "outputs": [
    {
     "data": {
      "text/plain": [
       "LinearRegression()"
      ]
     },
     "execution_count": 172,
     "metadata": {},
     "output_type": "execute_result"
    }
   ],
   "source": [
    "lr.fit(X_train,y_train)"
   ]
  },
  {
   "cell_type": "code",
   "execution_count": 173,
   "id": "4a90d96a",
   "metadata": {},
   "outputs": [],
   "source": [
    "pred_lr=lr.predict(X_test)"
   ]
  },
  {
   "cell_type": "code",
   "execution_count": 174,
   "id": "ce6293ca",
   "metadata": {},
   "outputs": [
    {
     "name": "stdout",
     "output_type": "stream",
     "text": [
      "MAE for Test is 0.18426909760353913\n",
      "MSE for Test set is 0.05853123253879378\n",
      "RMSE for Test set is 0.2419322891612316\n",
      "R2 score for Test set is 0.6446404757987223\n",
      "Adjusted R2 score for Test set is 0.6313807920598686\n"
     ]
    }
   ],
   "source": [
    "MAE = metrics.mean_absolute_error(y_test, pred_lr)   \n",
    "print('MAE for Test is {}'.format(MAE))\n",
    "\n",
    "MSE = metrics.mean_squared_error(y_test, pred_lr)\n",
    "print('MSE for Test set is {}'.format(MSE))\n",
    "\n",
    "RMSE = np.sqrt(metrics.mean_squared_error(y_test, pred_lr))\n",
    "print('RMSE for Test set is {}'.format(RMSE))\n",
    "\n",
    "r2 = metrics.r2_score(y_test,pred_lr)\n",
    "print(\"R2 score for Test set is {}\".format(r2))\n",
    "\n",
    "adj_r_squared = 1 - (1-r2)*(len(y_test)-1)/(len(y_test)-X_test.shape[1]-1)\n",
    "print(\"Adjusted R2 score for Test set is {}\".format(adj_r_squared))"
   ]
  },
  {
   "cell_type": "code",
   "execution_count": 175,
   "id": "f38df0a6",
   "metadata": {},
   "outputs": [
    {
     "data": {
      "text/plain": [
       "<AxesSubplot:xlabel='AveragePrice'>"
      ]
     },
     "execution_count": 175,
     "metadata": {},
     "output_type": "execute_result"
    },
    {
     "data": {
      "image/png": "[encoded data removed]",
      "text/plain": [
       "<Figure size 432x288 with 1 Axes>"
      ]
     },
     "metadata": {
      "needs_background": "light"
     },
     "output_type": "display_data"
    }
   ],
   "source": [
    "sns.regplot(y_test,pred_lr)"
   ]
  },
  {
   "cell_type": "markdown",
   "id": "7381cce9",
   "metadata": {},
   "source": [
    "#### Decision Tree Model"
   ]
  },
  {
   "cell_type": "code",
   "execution_count": 176,
   "id": "e0f104cd",
   "metadata": {},
   "outputs": [
    {
     "data": {
      "text/plain": [
       "DecisionTreeRegressor()"
      ]
     },
     "execution_count": 176,
     "metadata": {},
     "output_type": "execute_result"
    }
   ],
   "source": [
    "dt.fit(X_train,y_train)"
   ]
  },
  {
   "cell_type": "code",
   "execution_count": 177,
   "id": "4a0ba4e6",
   "metadata": {},
   "outputs": [],
   "source": [
    "pred_dt=dt.predict(X_test)"
   ]
  },
  {
   "cell_type": "code",
   "execution_count": 178,
   "id": "67e73014",
   "metadata": {},
   "outputs": [
    {
     "name": "stdout",
     "output_type": "stream",
     "text": [
      "MAE for Test is 0.14096917808219178\n",
      "MSE for Test set is 0.04749948630136986\n",
      "RMSE for Test set is 0.21794376866836515\n",
      "R2 score for Test set is 0.7116173003759583\n",
      "Adjusted R2 score for Test set is 0.7008567518825239\n"
     ]
    }
   ],
   "source": [
    "MAE = metrics.mean_absolute_error(y_test, pred_dt)   \n",
    "print('MAE for Test is {}'.format(MAE))\n",
    "\n",
    "MSE = metrics.mean_squared_error(y_test, pred_dt)\n",
    "print('MSE for Test set is {}'.format(MSE))\n",
    "\n",
    "RMSE = np.sqrt(metrics.mean_squared_error(y_test, pred_dt))\n",
    "print('RMSE for Test set is {}'.format(RMSE))\n",
    "\n",
    "r2 = metrics.r2_score(y_test,pred_dt)\n",
    "print(\"R2 score for Test set is {}\".format(r2))\n",
    "\n",
    "adj_r_squared = 1 - (1-r2)*(len(y_test)-1)/(len(y_test)-X_test.shape[1]-1)\n",
    "print(\"Adjusted R2 score for Test set is {}\".format(adj_r_squared))"
   ]
  },
  {
   "cell_type": "code",
   "execution_count": 179,
   "id": "892d82e1",
   "metadata": {},
   "outputs": [
    {
     "data": {
      "text/plain": [
       "<AxesSubplot:xlabel='AveragePrice'>"
      ]
     },
     "execution_count": 179,
     "metadata": {},
     "output_type": "execute_result"
    },
    {
     "data": {
      "image/png": "[encoded data removed]",
      "text/plain": [
       "<Figure size 432x288 with 1 Axes>"
      ]
     },
     "metadata": {
      "needs_background": "light"
     },
     "output_type": "display_data"
    }
   ],
   "source": [
    "sns.regplot(y_test,pred_dt)"
   ]
  },
  {
   "cell_type": "markdown",
   "id": "8b58fbf4",
   "metadata": {},
   "source": [
    "#### Random Forest Model"
   ]
  },
  {
   "cell_type": "code",
   "execution_count": 180,
   "id": "d28fb6e8",
   "metadata": {},
   "outputs": [
    {
     "data": {
      "text/plain": [
       "RandomForestRegressor()"
      ]
     },
     "execution_count": 180,
     "metadata": {},
     "output_type": "execute_result"
    }
   ],
   "source": [
    "rf.fit(X_train,y_train)"
   ]
  },
  {
   "cell_type": "code",
   "execution_count": 181,
   "id": "c26135f0",
   "metadata": {},
   "outputs": [],
   "source": [
    "pred_rf=rf.predict(X_test)"
   ]
  },
  {
   "cell_type": "code",
   "execution_count": 182,
   "id": "134b5eec",
   "metadata": {},
   "outputs": [
    {
     "name": "stdout",
     "output_type": "stream",
     "text": [
      "MAE for Test is 0.10385900684931505\n",
      "MSE for Test set is 0.022530745291095885\n",
      "RMSE for Test set is 0.15010244931744413\n",
      "R2 score for Test set is 0.8632095279859793\n",
      "Adjusted R2 score for Test set is 0.8581054058959039\n"
     ]
    }
   ],
   "source": [
    "MAE = metrics.mean_absolute_error(y_test, pred_rf)   \n",
    "print('MAE for Test is {}'.format(MAE))\n",
    "\n",
    "MSE = metrics.mean_squared_error(y_test, pred_rf)\n",
    "print('MSE for Test set is {}'.format(MSE))\n",
    "\n",
    "RMSE = np.sqrt(metrics.mean_squared_error(y_test, pred_rf))\n",
    "print('RMSE for Test set is {}'.format(RMSE))\n",
    "\n",
    "r2 = metrics.r2_score(y_test,pred_rf)\n",
    "print(\"R2 score for Test set is {}\".format(r2))\n",
    "\n",
    "adj_r_squared = 1 - (1-r2)*(len(y_test)-1)/(len(y_test)-X_test.shape[1]-1)\n",
    "print(\"Adjusted R2 score for Test set is {}\".format(adj_r_squared))"
   ]
  },
  {
   "cell_type": "code",
   "execution_count": 183,
   "id": "b12484e0",
   "metadata": {},
   "outputs": [
    {
     "data": {
      "text/plain": [
       "<AxesSubplot:xlabel='AveragePrice'>"
      ]
     },
     "execution_count": 183,
     "metadata": {},
     "output_type": "execute_result"
    },
    {
     "data": {
      "image/png": "[encoded data removed]",
      "text/plain": [
       "<Figure size 432x288 with 1 Axes>"
      ]
     },
     "metadata": {
      "needs_background": "light"
     },
     "output_type": "display_data"
    }
   ],
   "source": [
    "sns.regplot(y_test,pred_rf)"
   ]
  },
  {
   "cell_type": "markdown",
   "id": "713d5a4e",
   "metadata": {},
   "source": [
    "#### Randomized Search Cv"
   ]
  },
  {
   "cell_type": "code",
   "execution_count": 185,
   "id": "213697fd",
   "metadata": {},
   "outputs": [
    {
     "data": {
      "text/plain": [
       "RandomizedSearchCV(cv=5, estimator=RandomForestRegressor(), n_jobs=-1,\n",
       "                   param_distributions={'max_depth': [5, 10, 15, 20, 25, 30],\n",
       "                                        'max_features': ['auto', 'sqrt'],\n",
       "                                        'min_samples_leaf': [1, 2, 5, 10],\n",
       "                                        'min_samples_split': [2, 5, 10, 15,\n",
       "                                                              100],\n",
       "                                        'n_estimators': [100, 200, 300, 400,\n",
       "                                                         500]})"
      ]
     },
     "execution_count": 185,
     "metadata": {},
     "output_type": "execute_result"
    }
   ],
   "source": [
    "rf_randomcv=RandomizedSearchCV(estimator=rf,param_distributions=random_grid, cv=5, n_iter=10,n_jobs=-1)\n",
    "### fit the randomized model\n",
    "rf_randomcv.fit(X_train,y_train)"
   ]
  },
  {
   "cell_type": "code",
   "execution_count": 186,
   "id": "a7f73426",
   "metadata": {},
   "outputs": [],
   "source": [
    "best_random_grid=rf_randomcv.best_estimator_"
   ]
  },
  {
   "cell_type": "code",
   "execution_count": 187,
   "id": "c8b64315",
   "metadata": {},
   "outputs": [],
   "source": [
    "pred_rf_rscv=best_random_grid.predict(X_test)"
   ]
  },
  {
   "cell_type": "code",
   "execution_count": 188,
   "id": "b0113db1",
   "metadata": {},
   "outputs": [
    {
     "name": "stdout",
     "output_type": "stream",
     "text": [
      "MAE for Test is 0.10258103850099594\n",
      "MSE for Test set is 0.022186841770950518\n",
      "RMSE for Test set is 0.14895248158708374\n",
      "R2 score for Test set is 0.8652974626832198\n",
      "Adjusted R2 score for Test set is 0.8602712486042355\n"
     ]
    }
   ],
   "source": [
    "MAE = metrics.mean_absolute_error(y_test, pred_rf_rscv)   \n",
    "print('MAE for Test is {}'.format(MAE))\n",
    "\n",
    "MSE = metrics.mean_squared_error(y_test, pred_rf_rscv)\n",
    "print('MSE for Test set is {}'.format(MSE))\n",
    "\n",
    "RMSE = np.sqrt(metrics.mean_squared_error(y_test, pred_rf_rscv))\n",
    "print('RMSE for Test set is {}'.format(RMSE))\n",
    "\n",
    "r2 = metrics.r2_score(y_test,pred_rf_rscv)\n",
    "print(\"R2 score for Test set is {}\".format(r2))\n",
    "\n",
    "adj_r_squared = 1 - (1-r2)*(len(y_test)-1)/(len(y_test)-X_test.shape[1]-1)\n",
    "print(\"Adjusted R2 score for Test set is {}\".format(adj_r_squared))"
   ]
  },
  {
   "cell_type": "code",
   "execution_count": 189,
   "id": "557161eb",
   "metadata": {},
   "outputs": [
    {
     "data": {
      "text/plain": [
       "<AxesSubplot:xlabel='AveragePrice'>"
      ]
     },
     "execution_count": 189,
     "metadata": {},
     "output_type": "execute_result"
    },
    {
     "data": {
      "image/png": "[encoded data removed]",
      "text/plain": [
       "<Figure size 432x288 with 1 Axes>"
      ]
     },
     "metadata": {
      "needs_background": "light"
     },
     "output_type": "display_data"
    }
   ],
   "source": [
    "sns.regplot(y_test,pred_rf_rscv)"
   ]
  },
  {
   "cell_type": "markdown",
   "id": "18ba559f",
   "metadata": {},
   "source": [
    "#### Conclusion"
   ]
  },
  {
   "cell_type": "markdown",
   "id": "156c1c02",
   "metadata": {},
   "source": [
    "RandomForest Regressor with RandamizedSearch CV Gave best prediction\n",
    "\n",
    "So, prediction for test dataset can perform using RandomForest Regression with RandamizedSearch CV"
   ]
  },
  {
   "cell_type": "markdown",
   "id": "fa0c19b0",
   "metadata": {},
   "source": [
    "#### Working with TestSet"
   ]
  },
  {
   "cell_type": "code",
   "execution_count": 190,
   "id": "5c0d20fd",
   "metadata": {},
   "outputs": [],
   "source": [
    "df_test=pd.read_csv('avocado_test.csv')"
   ]
  },
  {
   "cell_type": "code",
   "execution_count": 191,
   "id": "7ed82949",
   "metadata": {},
   "outputs": [],
   "source": [
    "df_test['otherPLU']=df_test['Total Volume']-(df_test['4046']+df_test['4225']+df_test['4770'])"
   ]
  },
  {
   "cell_type": "code",
   "execution_count": 192,
   "id": "44ade82c",
   "metadata": {},
   "outputs": [],
   "source": [
    "df_test.drop(columns=['Total Volume','Total Bags'],inplace=True)"
   ]
  },
  {
   "cell_type": "code",
   "execution_count": 193,
   "id": "1606da83",
   "metadata": {},
   "outputs": [],
   "source": [
    "df_test['Date'] = pd.to_datetime(df_test['Date'], format='%Y-%m-%d')\n",
    "df_test['Month']=df_test['Date'].dt.month\n",
    "df_test['Day']=df_test['Date'].dt.day"
   ]
  },
  {
   "cell_type": "code",
   "execution_count": 194,
   "id": "c4f922e2",
   "metadata": {},
   "outputs": [],
   "source": [
    "df_test.drop(columns=['Date'],inplace=True)\n",
    "df_test['type']=df_test['type'].map({'conventional':0,'organic':1})"
   ]
  },
  {
   "cell_type": "code",
   "execution_count": 195,
   "id": "15197eba",
   "metadata": {},
   "outputs": [],
   "source": [
    "region=pd.get_dummies(df_test['region'],drop_first=True)\n",
    "df_test=pd.concat((df_test,region),axis=1)\n",
    "df_test.drop(columns=['region'],inplace=True)"
   ]
  },
  {
   "cell_type": "code",
   "execution_count": 196,
   "id": "a5113fe3",
   "metadata": {},
   "outputs": [],
   "source": [
    "df_test[['4046','4225','4770','Small Bags','Large Bags','XLarge Bags','otherPLU']] =ss.fit_transform(df_test[['4046','4225','4770','Small Bags','Large Bags','XLarge Bags','otherPLU']])"
   ]
  },
  {
   "cell_type": "code",
   "execution_count": 197,
   "id": "757477c6",
   "metadata": {},
   "outputs": [],
   "source": [
    "year=pd.get_dummies(df_test['year'],drop_first=True)\n",
    "df_test=pd.concat((df_test,year),axis=1)\n",
    "df_test.drop(columns=['year'],inplace=True)"
   ]
  },
  {
   "cell_type": "code",
   "execution_count": 198,
   "id": "c7a8475b",
   "metadata": {},
   "outputs": [],
   "source": [
    "Month=pd.get_dummies(df_test['Month'],drop_first=True)\n",
    "df_test=pd.concat((df_test,Month),axis=1)\n",
    "df_test.drop(columns=['Month'],inplace=True)"
   ]
  },
  {
   "cell_type": "code",
   "execution_count": 199,
   "id": "014e7c31",
   "metadata": {},
   "outputs": [],
   "source": [
    "Day=pd.get_dummies(df_test['Day'],drop_first=True)\n",
    "df_test=pd.concat((df_test,Day),axis=1)\n",
    "df_test.drop(columns=['Day'],inplace=True)"
   ]
  },
  {
   "cell_type": "code",
   "execution_count": 201,
   "id": "c8bf10fa",
   "metadata": {},
   "outputs": [],
   "source": [
    "df_test.drop(columns=['Id'],inplace=True)"
   ]
  },
  {
   "cell_type": "code",
   "execution_count": 203,
   "id": "bfc9b9bc",
   "metadata": {},
   "outputs": [
    {
     "data": {
      "text/plain": [
       "(3650, 105)"
      ]
     },
     "execution_count": 203,
     "metadata": {},
     "output_type": "execute_result"
    }
   ],
   "source": [
    "df_test.shape"
   ]
  },
  {
   "cell_type": "markdown",
   "id": "19c96e21",
   "metadata": {},
   "source": [
    "Predicting for Test dataset with RandomForest Randomized Search Cv as I got best Accuracy score for this Model"
   ]
  },
  {
   "cell_type": "code",
   "execution_count": 204,
   "id": "d6aa04de",
   "metadata": {},
   "outputs": [],
   "source": [
    "predictions_test=best_random_grid.predict(df_test)"
   ]
  },
  {
   "cell_type": "code",
   "execution_count": 208,
   "id": "fe9732c9",
   "metadata": {},
   "outputs": [],
   "source": [
    "predictions_test = [ '%.2f' % elem for elem in predictions_test ]"
   ]
  },
  {
   "cell_type": "code",
   "execution_count": 211,
   "id": "42c4065e",
   "metadata": {},
   "outputs": [],
   "source": [
    "Avacado_Predictions = pd.DataFrame(predictions_test, columns=['predictions']).to_csv('Avacado_Predictions.csv',index=False,header=False)"
   ]
  },
  {
   "cell_type": "code",
   "execution_count": null,
   "id": "47733814",
   "metadata": {},
   "outputs": [],
   "source": []
  }
 ],
 "metadata": {
  "kernelspec": {
   "display_name": "Python 3 (ipykernel)",
   "language": "python",
   "name": "python3"
  },
  "language_info": {
   "codemirror_mode": {
    "name": "ipython",
    "version": 3
   },
   "file_extension": ".py",
   "mimetype": "text/x-python",
   "name": "python",
   "nbconvert_exporter": "python",
   "pygments_lexer": "ipython3",
   "version": "3.8.12"
  }
 },
 "nbformat": 4,
 "nbformat_minor": 5
}
